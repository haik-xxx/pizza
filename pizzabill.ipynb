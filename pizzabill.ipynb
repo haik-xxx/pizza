{
 "cells": [
  {
   "cell_type": "code",
   "execution_count": 1,
   "id": "48d7bb25-789b-4f55-b69f-eb53e20a3234",
   "metadata": {},
   "outputs": [
    {
     "name": "stdout",
     "output_type": "stream",
     "text": [
      "Welcome to Python Pizza Deliveries\n"
     ]
    },
    {
     "name": "stdin",
     "output_type": "stream",
     "text": [
      "What size pizza do you want? S, M, or L:  s\n",
      "Do you want pepperoni? Y or N:  Y\n",
      "Do you want extra cheese? Y or N:  Y\n"
     ]
    },
    {
     "name": "stdout",
     "output_type": "stream",
     "text": [
      "Your final bill is: $4.\n"
     ]
    }
   ],
   "source": [
    "# Welcome message\n",
    "print(\"Welcome to Python Pizza Deliveries\")\n",
    "\n",
    "# Prompt the user for inputs\n",
    "size = input(\"What size pizza do you want? S, M, or L: \")\n",
    "add_pepperoni = input(\"Do you want pepperoni? Y or N: \")\n",
    "extra_cheese = input(\"Do you want extra cheese? Y or N: \")\n",
    "\n",
    "# Initialize the bill\n",
    "bill = 0\n",
    "\n",
    "# Calculate the bill based on the size\n",
    "if size == \"S\":\n",
    "    bill = 15\n",
    "elif size == \"M\":\n",
    "    bill = 20\n",
    "elif size == \"L\":\n",
    "    bill = 25\n",
    "\n",
    "# Add pepperoni cost\n",
    "if add_pepperoni == \"Y\":\n",
    "    if size == \"S\":\n",
    "        bill += 2\n",
    "    else:\n",
    "        bill += 3\n",
    "\n",
    "# Add cheese cost\n",
    "if extra_cheese == \"Y\":\n",
    "    bill += 1\n",
    "\n",
    "# Print the final bill\n",
    "print(f\"Your final bill is: ${bill}.\")\n"
   ]
  }
 ],
 "metadata": {
  "kernelspec": {
   "display_name": "Python 3 (ipykernel)",
   "language": "python",
   "name": "python3"
  },
  "language_info": {
   "codemirror_mode": {
    "name": "ipython",
    "version": 3
   },
   "file_extension": ".py",
   "mimetype": "text/x-python",
   "name": "python",
   "nbconvert_exporter": "python",
   "pygments_lexer": "ipython3",
   "version": "3.13.1"
  }
 },
 "nbformat": 4,
 "nbformat_minor": 5
}
